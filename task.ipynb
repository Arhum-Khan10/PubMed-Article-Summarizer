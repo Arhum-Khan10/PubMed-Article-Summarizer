{
 "cells": [
  {
   "cell_type": "markdown",
   "metadata": {},
   "source": [
    "### Importing all the necessary libraries."
   ]
  },
  {
   "cell_type": "code",
   "execution_count": null,
   "metadata": {},
   "outputs": [],
   "source": [
    "from datasets import load_from_disk\n",
    "from datasets import load_dataset"
   ]
  },
  {
   "cell_type": "markdown",
   "metadata": {},
   "source": [
    "### Downloading the dataset."
   ]
  },
  {
   "cell_type": "code",
   "execution_count": 3,
   "metadata": {},
   "outputs": [
    {
     "data": {
      "application/vnd.jupyter.widget-view+json": {
       "model_id": "6fde8e98218546d7a141ddaa224038ff",
       "version_major": 2,
       "version_minor": 0
      },
      "text/plain": [
       "Downloading data:   0%|          | 0.00/779M [00:00<?, ?B/s]"
      ]
     },
     "metadata": {},
     "output_type": "display_data"
    },
    {
     "data": {
      "application/vnd.jupyter.widget-view+json": {
       "model_id": "49f5c35114c34f6695d2eb4600b9d5c4",
       "version_major": 2,
       "version_minor": 0
      },
      "text/plain": [
       "Downloading data:   0%|          | 0.00/43.7M [00:00<?, ?B/s]"
      ]
     },
     "metadata": {},
     "output_type": "display_data"
    },
    {
     "data": {
      "application/vnd.jupyter.widget-view+json": {
       "model_id": "a334760ad0e1492c9ced89c9f6efc972",
       "version_major": 2,
       "version_minor": 0
      },
      "text/plain": [
       "Downloading data:   0%|          | 0.00/43.8M [00:00<?, ?B/s]"
      ]
     },
     "metadata": {},
     "output_type": "display_data"
    },
    {
     "data": {
      "application/vnd.jupyter.widget-view+json": {
       "model_id": "a791640c29f24326bdffdbf4b85a4c8f",
       "version_major": 2,
       "version_minor": 0
      },
      "text/plain": [
       "Generating train split: 0 examples [00:00, ? examples/s]"
      ]
     },
     "metadata": {},
     "output_type": "display_data"
    },
    {
     "data": {
      "application/vnd.jupyter.widget-view+json": {
       "model_id": "f4f219415bac4da39e3c3126ee2d6f1e",
       "version_major": 2,
       "version_minor": 0
      },
      "text/plain": [
       "Generating validation split: 0 examples [00:00, ? examples/s]"
      ]
     },
     "metadata": {},
     "output_type": "display_data"
    },
    {
     "data": {
      "application/vnd.jupyter.widget-view+json": {
       "model_id": "1092a282fa9a4fc8afbd520254f8bf8a",
       "version_major": 2,
       "version_minor": 0
      },
      "text/plain": [
       "Generating test split: 0 examples [00:00, ? examples/s]"
      ]
     },
     "metadata": {},
     "output_type": "display_data"
    }
   ],
   "source": [
    "dataset = load_dataset(\"ccdv/pubmed-summarization\", trust_remote_code=True)"
   ]
  },
  {
   "cell_type": "markdown",
   "metadata": {},
   "source": [
    "### Saving the dataset to disk."
   ]
  },
  {
   "cell_type": "code",
   "execution_count": 4,
   "metadata": {},
   "outputs": [
    {
     "data": {
      "application/vnd.jupyter.widget-view+json": {
       "model_id": "96a558cd2a7d4a10b58875d68ead12c2",
       "version_major": 2,
       "version_minor": 0
      },
      "text/plain": [
       "Saving the dataset (0/5 shards):   0%|          | 0/119924 [00:00<?, ? examples/s]"
      ]
     },
     "metadata": {},
     "output_type": "display_data"
    },
    {
     "data": {
      "application/vnd.jupyter.widget-view+json": {
       "model_id": "91c24de6e13d4fc38faba587366715ca",
       "version_major": 2,
       "version_minor": 0
      },
      "text/plain": [
       "Saving the dataset (0/1 shards):   0%|          | 0/6633 [00:00<?, ? examples/s]"
      ]
     },
     "metadata": {},
     "output_type": "display_data"
    },
    {
     "data": {
      "application/vnd.jupyter.widget-view+json": {
       "model_id": "e647460b6c5746c0ae4f39ba792df859",
       "version_major": 2,
       "version_minor": 0
      },
      "text/plain": [
       "Saving the dataset (0/1 shards):   0%|          | 0/6658 [00:00<?, ? examples/s]"
      ]
     },
     "metadata": {},
     "output_type": "display_data"
    }
   ],
   "source": [
    "# save the dataset to disk in a csv file\n",
    "dataset.save_to_disk(\"pubmed-summarization\")"
   ]
  },
  {
   "cell_type": "code",
   "execution_count": 14,
   "metadata": {},
   "outputs": [
    {
     "name": "stdout",
     "output_type": "stream",
     "text": [
      "{'article': \"a recent systematic analysis showed that in 2011 , 314 ( 296 - 331 ) million children younger than 5 years were mildly , moderately or severely stunted and 258 ( 240 - 274 ) million were mildly , moderately or severely underweight in the developing countries . \\n in iran a study among 752 high school girls in sistan and baluchestan showed prevalence of 16.2% , 8.6% and 1.5% , for underweight , overweight and obesity , respectively . \\n the prevalence of malnutrition among elementary school aged children in tehran varied from 6% to 16% . \\n anthropometric study of elementary school students in shiraz revealed that 16% of them suffer from malnutrition and low body weight . \\n snack should have 300 - 400 kcal energy and could provide 5 - 10 g of protein / day . nowadays , school nutrition programs are running as the national programs , world - wide . national school lunch program in the united states \\n there are also some reports regarding school feeding programs in developing countries . in vietnam , \\n school base program showed an improvement in nutrient intakes . in iran a national free food program ( nffp ) \\n is implemented in elementary schools of deprived areas to cover all poor students . however , this program is not conducted in slums and poor areas of the big cities so many malnourished children with low socio - economic situation are not covered by nffp . although the rate of poverty in areas known as deprived is higher than other areas , many students in deprived areas are not actually poor and can afford food . \\n hence , nutritional value of the nffp is lower than the scientific recommended snacks for this age group . \\n furthermore , lack of variety of food packages has decreased the tendency of children toward nffp . on the other hand , \\n the most important one is ministry of education ( moe ) of iran , which is responsible for selecting and providing the packages for targeted schools . \\n the ministry of health ( moh ) is supervising the health situation of students and their health needs . \\n welfare organizations , along with charities , have the indirect effect on nutritional status of students by financial support of their family . \\n provincial governors have also the role of coordinating and supervising all activities of these organizations . \\n parent - teacher association is a community - based institution that participates in school 's policy such as nffp . \\n in addition to these organizations , nutritional literacy of students , their parents and teachers , is a very important issue , which could affect nutritional status of school age children . \\n therefore , the present study was conducted with the aim of improving the nffp , so that by its resources all poor children will be covered even in big cities . \\n moreover , all food packages were replaced by nutritious and diverse packages that were accessible for non - poor children . according to the aim of this study and multiple factors that could affect the problem , \\n public health advocacy has been chosen as the best strategy to deal with this issue . \\n therefore , the present study determines the effects of nutrition intervention in an advocacy process model on the prevalence of underweight in school aged children in the poor area of shiraz , iran . \\n this interventional study has been carried out between 2009 and 2010 in shiraz , iran . \\n this survey was approved by the research committee of shiraz university of medical sciences . in coordination with education organization of fars province \\n two elementary schools and one middle school in the third region of the urban area of shiraz were selected randomly . in those schools all \\n students ( 2897 , 7 - 13 years old ) were screened based on their body mass index ( bmi ) by nutritionists . according to convenience method all \\n students divided to two groups based on their economic situation ; family revenue and head of household 's job and nutrition situation ; the first group were poor and malnourished students and the other group were well nourished or well - off students . \\n for this report , the children 's height and weight were entered into center for disease control and prevention ( cdc ) to calculate bmi and bmi - for - age z - scores based on cdc for diseases control and prevention and growth standards . \\n the significance of the difference between proportions was calculated using two - tailed z - tests for independent proportions . for implementing the interventions , \\n the advocacy process model weight was to the nearest 0.1 kg on a balance scale ( model # seca scale ) . \\n standing height was measured to the nearest 0.1 cm with a wall - mounted stadiometer . \\n advocacy group formation : this step was started with stakeholder analysis and identifying the stakeholders . \\n the team was formed with representatives of all stakeholders include ; education organization , welfare organization , deputy for health of shiraz university , food and cosmetic product supervisory office and several non - governmental organizations and charities . situation analysis : this was carried out by use of existing data such as formal report of organizations , literature review and focus group with experts . \\n the prevalence of malnutrition and its related factors among students was determined and weaknesses and strengths of the nffp were analyzed . \\n accordingly , three sub - groups were established : research and evaluation , education and justification and executive group . designing the strategies : \\n three strategies were identified ; education and justification campaign , nutritional intervention ( providing nutritious , safe and diverse snacks ) and networking . performing the interventions : interventions that were implementing in selected schools were providing a diverse and nutritious snack package along with nutrition education for both groups while the first group ( poor and malnourished students ) was utilized the package free of charge . \\n education and justification intervention : regarding the literature review and expert opinion , an educational group affiliated with the advocacy team has prepared educational booklets about nutritional information for each level ( degree ) . \\n accordingly , education of these booklets has been integrated into regular education of students and they educated and justified for better nutrition life - style . \\n it leads the educational group to hold several meeting with the student 's parents to justify them about the project and its benefit for their children . \\n after these meetings , parental desire for participation in the project illustrated the effectiveness of the justification meeting with them . \\n for educate fifteen talk show programs in tv and radio , 12 published papers in the local newspaper , have implemented to mobilize the community and gain their support . \\n healthy diet , the importance of breakfast and snack in adolescence , wrong food habits among school age children , role of the family to improve food habit of children were the main topics , in which media campaign has focused on . \\n nutritional intervention : the snack basket of the students was replaced with traditional , nutritious and diverse foods . in general , the new snack package in average has provided 380 kcal energy , 15 g protein along with sufficient calcium and iron . \\n low economic and malnourished children were supported by executive group affiliated with advocacy team and the rest of them prepare their snack by themselves . \\n research and evaluation : in this step , the literacy and anthropometric indices ( bmi ) of students were assessed before and after the interventions . \\n the reference for anthropometric measures was the world health organization / national center for health statistics ( who / nchs ) standards and the cut - offs were - two standard deviations ( sd ) from the mean . \\n each student that was malnourished and poor has been taken into account for free food and nutritious snacks . \\n demographic information , height , weight and knowledge of the students were measured by use of a validated and reliable ( cronbach 's alpha was 0.61 ) questionnaire . \\n this project is granted by shiraz university of medical sciences , charities and welfare organization and education organization of fars province . \\n statistical analyses were performed using the statistical package for the social sciences ( spss ) software , version 17.0 ( spss inc . , \\n the results are expressed as mean  sd and proportions as appropriated . in order to determine the effective variables on the malnutrition status \\n paired t test was used to compare the end values with baseline ones in each group . \\n in this project , the who z - score cut - offs used were as follow : using bmi - for - age z - scores ; overweight : > + 1 sd , i.e. , z - score > 1 ( equivalent to bmi 25 kg / m ) , obesity : > + 2 sd ( equivalent to bmi 30 kg / m ) , thinness : < 2 sd and severe thinness : < 3 sd . \\n this interventional study has been carried out between 2009 and 2010 in shiraz , iran . \\n this survey was approved by the research committee of shiraz university of medical sciences . in coordination with education organization of fars province \\n two elementary schools and one middle school in the third region of the urban area of shiraz were selected randomly . in those schools all \\n students ( 2897 , 7 - 13 years old ) were screened based on their body mass index ( bmi ) by nutritionists . according to convenience method all \\n students divided to two groups based on their economic situation ; family revenue and head of household 's job and nutrition situation ; the first group were poor and malnourished students and the other group were well nourished or well - off students . \\n for this report , the children 's height and weight were entered into center for disease control and prevention ( cdc ) to calculate bmi and bmi - for - age z - scores based on cdc for diseases control and prevention and growth standards . \\n the significance of the difference between proportions was calculated using two - tailed z - tests for independent proportions . for implementing the interventions , \\n weight was to the nearest 0.1 kg on a balance scale ( model # seca scale ) . \\n standing height was measured to the nearest 0.1 cm with a wall - mounted stadiometer . \\n advocacy group formation : this step was started with stakeholder analysis and identifying the stakeholders . \\n the team was formed with representatives of all stakeholders include ; education organization , welfare organization , deputy for health of shiraz university , food and cosmetic product supervisory office and several non - governmental organizations and charities . situation analysis : this was carried out by use of existing data such as formal report of organizations , literature review and focus group with experts . \\n the prevalence of malnutrition and its related factors among students was determined and weaknesses and strengths of the nffp were analyzed . \\n accordingly , three sub - groups were established : research and evaluation , education and justification and executive group . designing the strategies : \\n three strategies were identified ; education and justification campaign , nutritional intervention ( providing nutritious , safe and diverse snacks ) and networking . performing the interventions : interventions that were implementing in selected schools were providing a diverse and nutritious snack package along with nutrition education for both groups while the first group ( poor and malnourished students ) was utilized the package free of charge . duration of intervention was 6 months . \\n education and justification intervention : regarding the literature review and expert opinion , an educational group affiliated with the advocacy team has prepared educational booklets about nutritional information for each level ( degree ) . \\n accordingly , education of these booklets has been integrated into regular education of students and they educated and justified for better nutrition life - style . obviously , student 's families had remarkable effect on children 's food habit . \\n it leads the educational group to hold several meeting with the student 's parents to justify them about the project and its benefit for their children . \\n after these meetings , parental desire for participation in the project illustrated the effectiveness of the justification meeting with them . \\n educate fifteen talk show programs in tv and radio , 12 published papers in the local newspaper , have implemented to mobilize the community and gain their support . \\n healthy diet , the importance of breakfast and snack in adolescence , wrong food habits among school age children , role of the family to improve food habit of children were the main topics , in which media campaign has focused on . \\n nutritional intervention : the snack basket of the students was replaced with traditional , nutritious and diverse foods . in general , the new snack package in average has provided 380 kcal energy , 15 g protein along with sufficient calcium and iron . \\n low economic and malnourished children were supported by executive group affiliated with advocacy team and the rest of them prepare their snack by themselves . \\n research and evaluation : in this step , the literacy and anthropometric indices ( bmi ) of students were assessed before and after the interventions . \\n the reference for anthropometric measures was the world health organization / national center for health statistics ( who / nchs ) standards and the cut - offs were - two standard deviations ( sd ) from the mean . \\n each student that was malnourished and poor has been taken into account for free food and nutritious snacks . \\n demographic information , height , weight and knowledge of the students were measured by use of a validated and reliable ( cronbach 's alpha was 0.61 ) questionnaire . \\n this project is granted by shiraz university of medical sciences , charities and welfare organization and education organization of fars province . \\n advocacy group formation : this step was started with stakeholder analysis and identifying the stakeholders . \\n the team was formed with representatives of all stakeholders include ; education organization , welfare organization , deputy for health of shiraz university , food and cosmetic product supervisory office and several non - governmental organizations and charities . \\n situation analysis : this was carried out by use of existing data such as formal report of organizations , literature review and focus group with experts . \\n the prevalence of malnutrition and its related factors among students was determined and weaknesses and strengths of the nffp were analyzed . \\n accordingly , three sub - groups were established : research and evaluation , education and justification and executive group . \\n designing the strategies : three strategies were identified ; education and justification campaign , nutritional intervention ( providing nutritious , safe and diverse snacks ) and networking . \\n performing the interventions : interventions that were implementing in selected schools were providing a diverse and nutritious snack package along with nutrition education for both groups while the first group ( poor and malnourished students ) was utilized the package free of charge . \\n education and justification intervention : regarding the literature review and expert opinion , an educational group affiliated with the advocacy team has prepared educational booklets about nutritional information for each level ( degree ) . \\n accordingly , education of these booklets has been integrated into regular education of students and they educated and justified for better nutrition life - style . obviously , student 's families had remarkable effect on children 's food habit . \\n it leads the educational group to hold several meeting with the student 's parents to justify them about the project and its benefit for their children . \\n after these meetings , parental desire for participation in the project illustrated the effectiveness of the justification meeting with them . \\n educate fifteen talk show programs in tv and radio , 12 published papers in the local newspaper , have implemented to mobilize the community and gain their support . \\n healthy diet , the importance of breakfast and snack in adolescence , wrong food habits among school age children , role of the family to improve food habit of children were the main topics , in which media campaign has focused on . nutritional intervention : the snack basket of the students \\n was replaced with traditional , nutritious and diverse foods . in general , the new snack package in average has provided 380 kcal energy , 15 g protein along with sufficient calcium and iron . \\n low economic and malnourished children were supported by executive group affiliated with advocacy team and the rest of them prepare their snack by themselves . \\n research and evaluation : in this step , the literacy and anthropometric indices ( bmi ) of students were assessed before and after the interventions . \\n the reference for anthropometric measures was the world health organization / national center for health statistics ( who / nchs ) standards and the cut - offs were - two standard deviations ( sd ) from the mean . \\n each student that was malnourished and poor has been taken into account for free food and nutritious snacks . \\n demographic information , height , weight and knowledge of the students were measured by use of a validated and reliable ( cronbach 's alpha was 0.61 ) questionnaire . \\n this project is granted by shiraz university of medical sciences , charities and welfare organization and education organization of fars province . \\n statistical analyses were performed using the statistical package for the social sciences ( spss ) software , version 17.0 ( spss inc . , chicago , il , usa ) . \\n the results are expressed as mean  sd and proportions as appropriated . in order to determine the effective variables on the malnutrition status \\n paired t test was used to compare the end values with baseline ones in each group . \\n two - sided p < 0.05 was considered to be statistically significant . in this project , \\n the who z - score cut - offs used were as follow : using bmi - for - age z - scores ; overweight : > + 1 sd , i.e. , z - score > 1 ( equivalent to bmi 25 kg / m ) , obesity : > + 2 sd ( equivalent to bmi 30 \\n kg / m ) , thinness : < 2 sd and severe thinness : < 3 sd . \\n study population contains 2897 children ; 70.8% were primary school students and 29.2% were secondary school students . \\n 2336 ( 80.5% ) out of total students were well - off and 561 children ( 19.5% ) were indigent . \\n 19.5% of subjects were in case group ( n = 561 ) and 80.5% were in the control group ( n = 2336 ) . \\n the mean of age in welfare group was 10.0  2.3 and 10.5  2.5 in non - welfare group . \\n demographic characteristics of school aged children in shiraz , iran table 2 shows the frequency of subjects in different categories of bmi for age in non - welfare and welfare groups of school aged children separately among boys and girls before and after a nutrition intervention based on advocacy process model in shiraz , iran . \\n the frequency of subjects with bmi lower than < 2 sd decreased significantly after intervention among non - welfare girls ( p < 0.01 ) . \\n however , there were no significant decreases in the frequency of subjects with bmi lower than < 2 sd boys . \\n when we assess the effect of intervention in total population without separating by sex groups , we found no significant change in this population [ table 3 ] . \\n bmi for age for iranian students aged 7 - 14 years based on gender according to who growth standards 2007 bmi for age for iranian students aged 7 - 14 years according to who growth standards 2007 in non - welfare and welfare groups of total population table 4 has shown the prevalence of normal bmi , mild , moderate and severe malnutrition in non - welfare and welfare groups of school aged children separately among boys and girls before and after a nutrition intervention based on advocacy process model . according to this table \\n there were no significant differences in the prevalence of mild , moderate and severe malnutrition among girls and boys . \\n table 4 also shows the mean of all anthropometric indices changed significantly after intervention both among girls and boys . \\n the pre- and post - test education assessment in both groups showed that the student 's average knowledge score has been significantly increased from 12.5  3.2 to 16.8  4.3 ( p < 0.0001 ) . \\n bmi , height and weight in non - welfare and welfare groups of school aged children separately in males and females before and after a nutrition intervention based on advocacy process model in shiraz , iran according to study 's finding the odds ratio ( or ) of sever thinness and thinness in non - welfare compared with welfare is 3.5 ( or = 3.5 , confidence interval [ ci ] = 2.5 - 3.9 , p < 0.001 ) . \\n furthermore , the finding showed or of overweight and obesity in welfare compared to non - welfare is 19.3 ( or = 19.3 , ci = 2.5 - 3.9 , p = 0.04 ) . \\n the result of this community intervention study revealed that nutrition intervention based on advocacy program had been successful to reduce the prevalence of underweight among poor girls . \\n this study shows determinant factor of nutritional status of school age children was their socio - economic level . according to our knowledge , \\n this is the first study , which determines the effect of a community intervention based on advocacy process on the malnutrition indices in a big city ( shiraz ) in iran . \\n the other program in iran ( nffp ) is specified to deprived area and is not conducted in big cities . \\n allocating millions of dollars to nffp by government , selecting the malnourished students through an active screening system at primary and middle schools , paying attention of policy makers to student 's nutrition have provided the opportunity to combat the problem . however , negligence of under - poverty line , providing poor snacks in terms of nutritional value and lack of variety are the main defects of this program . \\n advocacy by definition is a blending of science , ethics and politics for comprehensive approaching health issues . by using advocacy program in california among the high school students for improving their nutrition and physical activity \\n angeles unified school district participants emphasized on nutrition classes for families as well as students in addition to other interventions . in the present study \\n another study revealed that evaluability assessment gave stakeholders the opportunity to reflect on the project and its implementation issues . \\n it seems that in iran , free food program among the students not only is needed in deprived areas , but also it should be performed in big cities such as shiraz . at baseline , \\n no significant difference was founded among wealthy students between the pre- and post - nutritional status intervention . \\n in contrast , the numbers of students who have malnutrition decreased from 44% to 39.4% , which was identified as a significant among impecunious girls students . \\n there was also a significant increase in the proportion of children with bmi that was normal for age ( 2 to + 1 sd ) most of the published community interventions showed better results among females compared with males . \\n this difference in the impact of nutritional interventions between male and female might be related to the different age of puberty in the female population compared to the male population . in the age range of the present study female \\n although , there is no nffp in big cities of iran , there are some programs for improving the nutritional status such as providing free milk in schools . \\n a recent publication has shown that school feeding programs focus on milk supplementation had beneficial effects on the physical function and school performances specifically among girls in iran . \\n the results of the mentioned study showed an improvement in the weight of children , psychological test 's scores and the grade - point average following this school feeding program . \\n the intervention in the present study had focused on the snack intake in the school time . \\n there are some reports regarding the nutrition transition in iran , which shows the importance of nutrition intervention to provide more healthy eating dietary habits among welfare groups of adolescents . \\n hence , nutrition intervention especially in the form of nutrition education is needed in big cities and among welfare children and adolescents . although a study among iranian adolescents showed that dietary behavior of adolescents does not accord to their knowledge , which emphasize on the necessity of community intervention programs . a recent study regarding the major dietary pattern among iranian children showed the presence of four major dietary patterns , in which fast food pattern and sweet pattern as two major dietary patterns can be mentioned among iranian children . in advocacy program audience 's analysis \\n accordingly , one of the prominent strategies in this study was working with media and was meeting with parent - teacher association that both of them were secondary target audiences \\n . we also took into account policy makers in different levels , from national to local as primary audiences . \\n advocacy team had several meetings with management and planning organization at national level and education organization of the fars province as well as principal of the targeted schools . \\n providing nutritious snacks need contribution of private sector such as food industries or factories , but their benefits should be warranted . \\n another choice was community involvement ; which can be achieved by female health volunteers who are working with the health system . \\n advocacy team by using the support of charities and female health volunteers could establish a local factory that produced student 's snacks based on the new definition . however , there are some challenges on the way of expanding this program . \\n mass production of the proposed snacks according to different desires and cultures and getting involvement of food industries with respect to marketing issues is one of those challenges . \\n moreover , providing a supportive environment in order to change the food habits of the students and their parents among the wide range of the population require a sustainable and continuous inter - sector collaboration . \\n although in a limited number of schools , in our study , interventions and advocacy program was successful , expanding this model to another areas around the country depends on convincing the policy makers at national level . in this \\n regard , advocacy team should prepare evidenced based profile and transitional planning to convince the policy makers for improving the rule and regulation of nffp . \\n the same as this study in other studies have also emphasized that there must be efforts to strengthen the capacity within the schools to deal with the nutritional problems either overweight , obesity or malnutrition by using of educational and nutritional intervention . \\n assessing the dietary adherence is very important in nutrition intervention among population . as this population was children and adolescents we had a limitation in the blood sample collection to assess the subject 's dietary adherence . \\n furthermore , this intervention was only focused on the intake of snack in school time and we did not have comprehensive information on the dietary intake of children and adolescents after school all over the day . \\n the investigators propose further investigation in different areas of the country based on socio - cultural differences in order to make necessary modification and adapt this model to other areas . \\n regarding the nutritional needs of the school age children , provision of a good platform for implementing and expanding this efficient model to the whole country based upon the socio - economic situation of each region is advisable to the moh and the moe . \\n community nutrition intervention based on the advocacy process model is effective on reducing the prevalence of underweight specifically among female school aged children .\", 'abstract': \"background : the present study was carried out to assess the effects of community nutrition intervention based on advocacy approach on malnutrition status among school - aged children in shiraz , iran.materials and methods : this case - control nutritional intervention has been done between 2008 and 2009 on 2897 primary and secondary school boys and girls ( 7 - 13 years old ) based on advocacy approach in shiraz , iran . \\n the project provided nutritious snacks in public schools over a 2-year period along with advocacy oriented actions in order to implement and promote nutritional intervention . for evaluation of effectiveness of the intervention growth monitoring indices of pre- and post - intervention were statistically compared.results:the frequency of subjects with body mass index lower than 5% decreased significantly after intervention among girls ( p = 0.02 ) . \\n however , there were no significant changes among boys or total population . \\n the mean of all anthropometric indices changed significantly after intervention both among girls and boys as well as in total population . \\n the pre- and post - test education assessment in both groups showed that the student 's average knowledge score has been significantly increased from 12.5  3.2 to 16.8  4.3 ( p < 0.0001).conclusion : this study demonstrates the potential success and scalability of school feeding programs in iran . \\n community nutrition intervention based on the advocacy process model is effective on reducing the prevalence of underweight specifically among female school aged children .\"}\n"
     ]
    }
   ],
   "source": [
    "# Exploring the dataset\n",
    "print(dataset['train'][0])"
   ]
  }
 ],
 "metadata": {
  "kernelspec": {
   "display_name": "Python 3",
   "language": "python",
   "name": "python3"
  },
  "language_info": {
   "codemirror_mode": {
    "name": "ipython",
    "version": 3
   },
   "file_extension": ".py",
   "mimetype": "text/x-python",
   "name": "python",
   "nbconvert_exporter": "python",
   "pygments_lexer": "ipython3",
   "version": "3.12.0"
  }
 },
 "nbformat": 4,
 "nbformat_minor": 2
}
